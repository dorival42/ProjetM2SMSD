{
 "cells": [
  {
   "cell_type": "code",
   "execution_count": null,
   "id": "2247d81a-03f2-4065-a8fc-ace84b249d82",
   "metadata": {},
   "outputs": [],
   "source": []
  }
 ],
 "metadata": {
  "kernelspec": {
   "display_name": "",
   "name": ""
  },
  "language_info": {
   "name": ""
  }
 },
 "nbformat": 4,
 "nbformat_minor": 5
}
